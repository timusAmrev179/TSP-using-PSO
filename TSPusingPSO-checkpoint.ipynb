{
 "cells": [
  {
   "cell_type": "code",
   "execution_count": 140,
   "metadata": {
    "collapsed": true
   },
   "outputs": [],
   "source": [
    "import numpy as np; \n",
    "import random as rd;\n",
    "import operator; \n",
    "import pandas as pd; \n",
    "from matplotlib import pyplot as plt; \n",
    "import random as rd;\n",
    "import collections;\n",
    "from itertools import permutations"
   ]
  },
  {
   "cell_type": "markdown",
   "metadata": {},
   "source": [
    "## Graph"
   ]
  },
  {
   "cell_type": "code",
   "execution_count": 141,
   "metadata": {},
   "outputs": [
    {
     "name": "stdout",
     "output_type": "stream",
     "text": [
      "Enter length of graph..6\n"
     ]
    },
    {
     "ename": "TypeError",
     "evalue": "'list' object is not callable",
     "output_type": "error",
     "traceback": [
      "\u001b[1;31m---------------------------------------------------------------------------\u001b[0m",
      "\u001b[1;31mTypeError\u001b[0m                                 Traceback (most recent call last)",
      "\u001b[1;32m<ipython-input-141-c227cc0ba1c8>\u001b[0m in \u001b[0;36m<module>\u001b[1;34m()\u001b[0m\n\u001b[1;32m----> 1\u001b[1;33m \u001b[0mlength\u001b[0m\u001b[1;33m=\u001b[0m \u001b[0mint\u001b[0m\u001b[1;33m(\u001b[0m\u001b[0minput\u001b[0m\u001b[1;33m(\u001b[0m\u001b[1;34m'Enter length of graph..'\u001b[0m\u001b[1;33m)\u001b[0m\u001b[1;33m)\u001b[0m\u001b[1;33m\u001b[0m\u001b[0m\n\u001b[0m\u001b[0;32m      2\u001b[0m \u001b[1;33m\u001b[0m\u001b[0m\n\u001b[0;32m      3\u001b[0m \u001b[1;32mclass\u001b[0m \u001b[0mGraph\u001b[0m\u001b[1;33m:\u001b[0m\u001b[1;33m\u001b[0m\u001b[0m\n\u001b[0;32m      4\u001b[0m     \"\"\"\n\u001b[0;32m      5\u001b[0m     \u001b[0mGraph\u001b[0m\u001b[1;33m:\u001b[0m \u001b[1;32mclass\u001b[0m \u001b[0mcreates\u001b[0m \u001b[0mdistance\u001b[0m \u001b[0mmatrix\u001b[0m \u001b[1;32mfor\u001b[0m \u001b[0mTSP\u001b[0m \u001b[0mproblem\u001b[0m\u001b[1;33m.\u001b[0m\u001b[1;33m\u001b[0m\u001b[0m\n",
      "\u001b[1;31mTypeError\u001b[0m: 'list' object is not callable"
     ]
    }
   ],
   "source": [
    "length= int(input('Enter length of graph..'))\n",
    "\n",
    "class Graph:\n",
    "    \"\"\"\n",
    "    Graph: class creates distance matrix for TSP problem. \n",
    "    \"\"\"\n",
    "    size= 0; \n",
    "    def __init__(self, size):\n",
    "        \"\"\"\n",
    "            __init__: takes size of square matrix as its only argument. \n",
    "        \"\"\"\n",
    "        self.size = size\n",
    "        \n",
    "    def auto_create(self): \n",
    "        \"\"\"\n",
    "            Auto_create(self): creates random test distance matrix on its own. \n",
    "        \"\"\"\n",
    "        G= np.zeros((self.size+1, self.size+1))\n",
    "        for i in range(1, self.size+1):\n",
    "            for j in range(1, self.size+1):\n",
    "                if((i==0 or j==0) or i==j ):\n",
    "                    continue;\n",
    "                \n",
    "                elif(G[i][j]==0):\n",
    "                    G[i][j]= rd.randint(1, 9)\n",
    "                    G[j][i]= G[i][j]\n",
    "                else: \n",
    "                    continue;\n",
    "                \n",
    "        return G\n",
    "    \n",
    "    def create(self):\n",
    "        \"\"\"\n",
    "            Create(self): users can create their own customized distance matrix. \n",
    "        \"\"\"\n",
    "        G= np.zeros((self.size+1, self.size+1))\n",
    "        for i in range(1, self.size+1):\n",
    "            for j in range(1, self.size+1):\n",
    "                if((i==0 or j==0) or i==j):\n",
    "                    continue; \n",
    "                    \n",
    "                elif(G[i][j]==0): \n",
    "                    G[j][i] = G[i][j] = int(input())\n",
    "                else: \n",
    "                    continue; \n",
    "                    \n",
    "        return G\n",
    "        "
   ]
  },
  {
   "cell_type": "code",
   "execution_count": 12,
   "metadata": {},
   "outputs": [
    {
     "name": "stdout",
     "output_type": "stream",
     "text": [
      "[[ 0.  0.  0.  0.  0.  0.  0.]\n",
      " [ 0.  0.  4.  6.  6.  6.  6.]\n",
      " [ 0.  4.  0.  2.  4.  6.  4.]\n",
      " [ 0.  6.  2.  0.  5.  4.  8.]\n",
      " [ 0.  6.  4.  5.  0.  3.  5.]\n",
      " [ 0.  6.  6.  4.  3.  0.  3.]\n",
      " [ 0.  6.  4.  8.  5.  3.  0.]]\n"
     ]
    }
   ],
   "source": [
    "g= Graph(length)\n",
    "g= g.auto_create()\n",
    "\n",
    "print(g)"
   ]
  },
  {
   "cell_type": "markdown",
   "metadata": {},
   "source": [
    "## Particle"
   ]
  },
  {
   "cell_type": "code",
   "execution_count": 13,
   "metadata": {
    "collapsed": true
   },
   "outputs": [],
   "source": [
    "class Particle():\n",
    "    \"\"\"\n",
    "        Particle: takes a route under TSP as one entity or particle. \n",
    "    \"\"\"\n",
    "    def __init__(self, length):\n",
    "        \"\"\"\n",
    "            Paticle(self, lenght): length as number of city present in the distance matrix. \n",
    "        \"\"\"\n",
    "        self.routeLength = length; \n",
    "        self.route = np.zeros((length), dtype='int')\n",
    "        for i in range(length):\n",
    "            rand = rd.randint(1, length)\n",
    "            \n",
    "            while (rand in self.route):\n",
    "                rand = rd.randint(1, length)\n",
    "            self.route[i] = rand;     \n",
    "            \n",
    "            \n",
    "        #print(type(self.position))\n",
    "        self.pbest_route = self.route\n",
    "        self.pbest_value = float('inf')        \n",
    "        \n",
    "        #self.velocity = np.zeros((1, 50))\n",
    "    def __str__(self):\n",
    "        return f\"My route is {str(self.route)} my pbest is  {str(self.pbest_route)} with pbest_value = {self.pbest_value}\"\n",
    "    "
   ]
  },
  {
   "cell_type": "code",
   "execution_count": 14,
   "metadata": {},
   "outputs": [
    {
     "name": "stdout",
     "output_type": "stream",
     "text": [
      "<class 'numpy.ndarray'>\n",
      "[3 1 5 2 4 6]\n",
      "My route is [3 1 5 2 4 6] my pbest is  [3 1 5 2 4 6] with pbest_value = inf\n"
     ]
    }
   ],
   "source": [
    "p= Particle(length)\n",
    "r= p.route\n",
    "print(type(r))\n",
    "print(r)\n",
    "print(p)"
   ]
  },
  {
   "cell_type": "markdown",
   "metadata": {},
   "source": [
    "## Fitness"
   ]
  },
  {
   "cell_type": "code",
   "execution_count": 15,
   "metadata": {
    "collapsed": true
   },
   "outputs": [],
   "source": [
    "class Fitness():\n",
    "    \"\"\"\n",
    "     It is to calculate the fitness of route based on the distance matrix. \n",
    "    \"\"\"\n",
    "    def __init__(self, particle, graph):\n",
    "        \"\"\"\n",
    "        Fiteness(self, route= list or rank 0 matrix, graph= adjacency_matrix): creates \n",
    "        the object of Fitness class which calculates the routeCost and fitness attached. \n",
    "        \"\"\"\n",
    "        self.route= particle.route; \n",
    "        self.cost= 0.0; \n",
    "        self.fitness=0.0;\n",
    "        self.graph= graph;\n",
    "    \n",
    "    def routeCost(self):\n",
    "        \"\"\"\n",
    "        RouteCost(self): calculates cost related to particular route.\n",
    "        \"\"\"\n",
    "        if self.cost==0.0:\n",
    "            pathdistance= 0; \n",
    "            #print(type(self.route))\n",
    "            for i in range(len(self.route)):\n",
    "                fromCity= self.route[i]\n",
    "                toCity= None\n",
    "                if i+1<len(self.route):\n",
    "                    toCity= self.route[i+1]\n",
    "                else:\n",
    "                    toCity= self.route[0]\n",
    "            \n",
    "                pathdistance+= self.graph[fromCity][toCity]\n",
    "            \n",
    "            self.cost= pathdistance\n",
    "        \n",
    "        return self.cost\n",
    "    \n",
    "    def routeFitness(self):\n",
    "        \"\"\"\n",
    "        RouteFitness(self): Computes the fitness over the route. \n",
    "        \"\"\"\n",
    "        if self.fitness == 0:\n",
    "            self.fitness=1/float(self.routeCost())\n",
    "            \n",
    "        return self.fitness\n",
    "    "
   ]
  },
  {
   "cell_type": "code",
   "execution_count": 16,
   "metadata": {},
   "outputs": [
    {
     "name": "stdout",
     "output_type": "stream",
     "text": [
      "My route is [3 1 5 2 4 6] my pbest is  [3 1 5 2 4 6] with pbest_value = inf\n",
      "[[ 0.  0.  0.  0.  0.  0.  0.]\n",
      " [ 0.  0.  4.  6.  6.  6.  6.]\n",
      " [ 0.  4.  0.  2.  4.  6.  4.]\n",
      " [ 0.  6.  2.  0.  5.  4.  8.]\n",
      " [ 0.  6.  4.  5.  0.  3.  5.]\n",
      " [ 0.  6.  6.  4.  3.  0.  3.]\n",
      " [ 0.  6.  4.  8.  5.  3.  0.]]\n",
      "cost= 35.0, fitness= 0.02857142857142857\n"
     ]
    }
   ],
   "source": [
    "print(p)\n",
    "print(g)\n",
    "f= Fitness(p, g)\n",
    "cost= f.routeCost()\n",
    "fitness= f.routeFitness()\n",
    "print(f\"cost= {cost}, fitness= {fitness}\")\n",
    "#print(type(f.route))"
   ]
  },
  {
   "cell_type": "markdown",
   "metadata": {},
   "source": [
    "## Operators."
   ]
  },
  {
   "cell_type": "code",
   "execution_count": 17,
   "metadata": {
    "collapsed": true
   },
   "outputs": [],
   "source": [
    "class Operators: \n",
    "    graph = np.zeros((1, 1)); \n",
    "    __totalDist= 0; \n",
    "    def __init__(self, graph= None):\n",
    "        \n",
    "        \"\"\"\n",
    "        Operators(self, graph): It takes graph or distance matrix as its first argument and perform\\\n",
    "        perform various Operations over the routes required for TSP. \n",
    "        \"\"\"\n",
    "        self.graph= graph\n",
    "        cities= np.shape(self.graph)[0]; \n",
    "        #print(self.graph)\n",
    "        #cities-=1\n",
    "#        for i in range(1, cities-1):\n",
    "#            self.__totalDist+=g[i][i+1]\n",
    "        \n",
    "        \n",
    "    \n",
    "    def crossOver(self, route1, route2, c1, r1):\n",
    "        \"\"\"\n",
    "            CrossOver(self, route1, route2, c1, r1): \n",
    "                it takes two routes as its first two argument and c1 , r1 as parameter to decide crossover length.\n",
    "        \"\"\"\n",
    "        clen = c1 * r1\n",
    "        res = np.zeros((len(route1)), dtype = np.int)\n",
    "        k= rd.randint(0, len(route1)-1)\n",
    "        #k=3\n",
    "        i=k\n",
    "        j=0\n",
    "        for _ in range(clen):\n",
    "            if i == (len(route2)-1):\n",
    "                i=0\n",
    "            res[j] = route2[i]\n",
    "            j+=1\n",
    "            i+=1\n",
    "        l=0    \n",
    "        while j<len(route2):\n",
    "            if route1[l] not in res:\n",
    "                res[j] = route1[l]\n",
    "                j+=1\n",
    "            \n",
    "            l+=1\n",
    "            \n",
    "        return res    \n",
    "    \n",
    "            \n",
    "    def __totaldistance(self, route):\n",
    "        td= 0.0\n",
    "        costmatrix= self.graph\n",
    "        routelen= len(route)\n",
    "        #print(f\"size= {self.graph.shape}\")\n",
    "        assert routelen == self.graph.shape[0]-1, \"rank mismatch\"\n",
    "        \n",
    "        \n",
    "        for i in range(routelen-1):\n",
    "            td+= costmatrix[route[i]][route[i+1]]\n",
    "            \n",
    "        td+= costmatrix[route[-1]][route[0]]\n",
    "        \n",
    "        return td\n",
    "    \n",
    "    def __injectionPoint(self, route):\n",
    "        \"\"\"\n",
    "            InjectionPoint(self, route): it takes route as its first and only argument. \n",
    "                Returns index position as where the injection needs to be done on the basis of distance between two cities. \n",
    "                \n",
    "        \"\"\"\n",
    "        td= self.__totaldistance(route); \n",
    "        \n",
    "        dmax= g[route[0]][route[1]]/td\n",
    "        injPnt= 0\n",
    "        for i in range(1, len(route)-1):\n",
    "            d= g[route[i]][route[i+1]]/td\n",
    "            if d>dmax:\n",
    "                injPnt = i\n",
    "                \n",
    "        return i\n",
    "    \n",
    "    def inject(self, route, hfactor= 0.3):\n",
    "        \"\"\"\n",
    "        Inject(self, route, hfactor = 0.3): \n",
    "            it takes route as its first argument and hfactor which has default value of 0.3. \n",
    "            It injects set of city called vc into the current particle bringing the change in the particle.\n",
    "        \"\"\"\n",
    "        #print(f\"route= {route}\")\n",
    "        hfaclen= int(hfactor*len(route));\n",
    "        #print(f\"hfaclen= {hfaclen}\"); \n",
    "        perm= np.random.permutation(route);\n",
    "        #print(f\"perm= {perm}\")\n",
    "        vc= perm[:hfaclen]\n",
    "        #print(f\"vc= {vc}\"); \n",
    "        \n",
    "        inPoint= self.__injectionPoint(route); \n",
    "        newroute= np.zeros((route.shape), dtype = np.int); \n",
    "        \n",
    "        #print(f\"inPoint= {inPoint}\")\n",
    "        \n",
    "        #newroute[inPoint:inPoint+hfaclen]= vc\n",
    "        i= inPoint\n",
    "\n",
    "        for j in range(hfaclen):\n",
    "            if i== len(route):\n",
    "                i=0; \n",
    "            newroute[i]= vc[j]\n",
    "            i+=1\n",
    "                \n",
    "                \n",
    "        #print(f\"newroute: {newroute}\")\n",
    "        routeLen= len(route); \n",
    "        j=i=0; \n",
    "        while i< routeLen:\n",
    "            if route[i] not in newroute:\n",
    "                while newroute[j] != 0 and j<routeLen:\n",
    "                    j+=1\n",
    "                newroute[j]= route[i]\n",
    "                i+=1\n",
    "            else: \n",
    "                i+=1; \n",
    "            \n",
    "        #print(f\"newroute processed under inject: {newroute}\")        \n",
    "        return newroute\n",
    "        \n",
    "    def reverse(self, route, s, e): \n",
    "        \"\"\"\n",
    "         Reverse(self, route, s, e): It does sectional reversal over the route as 1st argument, \n",
    "         start point as second and end point as last and third argument. \n",
    "        \"\"\"\n",
    "        newroute= route\n",
    "        if s==1: \n",
    "            newroute[s-1:e] = route[e-1::-1]\n",
    "        else:\n",
    "            newroute[s-1:e] = route[e-1:s-2:-1]\n",
    "        #print(f\"newroute processed under reverse: {newroute}\")\n",
    "        return newroute\n",
    "    "
   ]
  },
  {
   "cell_type": "code",
   "execution_count": 18,
   "metadata": {},
   "outputs": [
    {
     "name": "stdout",
     "output_type": "stream",
     "text": [
      "[[ 0.  0.  0.  0.  0.  0.  0.]\n",
      " [ 0.  0.  4.  6.  6.  6.  6.]\n",
      " [ 0.  4.  0.  2.  4.  6.  4.]\n",
      " [ 0.  6.  2.  0.  5.  4.  8.]\n",
      " [ 0.  6.  4.  5.  0.  3.  5.]\n",
      " [ 0.  6.  6.  4.  3.  0.  3.]\n",
      " [ 0.  6.  4.  8.  5.  3.  0.]]\n"
     ]
    }
   ],
   "source": [
    "op = Operators(g)\n",
    "print(g)\n",
    "r1= np.array([1, 2, 3, 4, 5, 6])\n",
    "route= op.inject(r1, 0.5)\n",
    "#td= op.totaldistance(r1)\n",
    "#print(f\"td= {td}\")"
   ]
  },
  {
   "cell_type": "code",
   "execution_count": 19,
   "metadata": {},
   "outputs": [
    {
     "data": {
      "text/plain": [
       "array([3, 2, 1, 4, 5, 6, 7])"
      ]
     },
     "execution_count": 19,
     "metadata": {},
     "output_type": "execute_result"
    }
   ],
   "source": [
    "r1= np.array([1,2, 3, 4, 5, 6, 7])\n",
    "op.reverse(r1, 1, 3)"
   ]
  },
  {
   "cell_type": "code",
   "execution_count": 20,
   "metadata": {
    "collapsed": true
   },
   "outputs": [],
   "source": [
    "r1= np.array(([5, 3, 7, 2, 8, 10, 6, 4, 9, 1]))\n",
    "r2= np.array(([7, 4, 2, 9, 6, 3, 5, 8, 1, 10]))\n",
    "\n",
    "op = Operators(g)\n",
    "res= op.crossOver(r1, r2, 2, 2)"
   ]
  },
  {
   "cell_type": "code",
   "execution_count": 21,
   "metadata": {},
   "outputs": [
    {
     "name": "stdout",
     "output_type": "stream",
     "text": [
      "[ 5  3  7  2  8 10  6  4  9  1]\n",
      "[ 7  4  2  9  6  3  5  8  1 10]\n",
      "[ 9  6  3  5  7  2  8 10  4  1]\n",
      "0\n"
     ]
    }
   ],
   "source": [
    "print(r1)\n",
    "print(r2)\n",
    "print(res)\n",
    "print(op._Operators__totalDist)"
   ]
  },
  {
   "cell_type": "code",
   "execution_count": 22,
   "metadata": {
    "collapsed": true
   },
   "outputs": [],
   "source": [
    "r1=np.array([1, 2, 3, 4, 5, 6])\n",
    "#print(r1.shape)\n",
    "#op.injectionPoint(r1)"
   ]
  },
  {
   "cell_type": "code",
   "execution_count": 23,
   "metadata": {},
   "outputs": [
    {
     "name": "stdout",
     "output_type": "stream",
     "text": [
      "[ 5  3  7  2  8 10  6  4  9  1]\n"
     ]
    }
   ],
   "source": [
    "r1= np.array([5, 3, 7, 2, 8, 10, 6, 4, 9, 1])\n",
    "print(r1)\n"
   ]
  },
  {
   "cell_type": "markdown",
   "metadata": {},
   "source": [
    "## search_space"
   ]
  },
  {
   "cell_type": "code",
   "execution_count": 24,
   "metadata": {
    "collapsed": true
   },
   "outputs": [],
   "source": [
    "class Space():\n",
    "    tdiversity= 0 #threshold diversity\n",
    "    \n",
    "    def __init__(self, n_particles, citycount, graph, tdiversity = 0.4, hfactor= 0.3):\n",
    "        \"\"\"\n",
    "        Space(self, n_particles, citycount, graph, tdivirsity= 0.4): \n",
    "            n_paritlcles: no. of paritlces needs to be rendered in space. \n",
    "            citycount: no. of cities involved in TSP. \n",
    "            graph: distance matrix.\n",
    "            tdivirsity: default value is 0.4. It is threshold diversity. \n",
    "            hfactor: heusteric factor\n",
    "        \"\"\"\n",
    "        self.n_particles = n_particles\n",
    "        self.graph = graph\n",
    "        self.citycount= citycount\n",
    "        self.tdiversity = tdiversity\n",
    "        self.hfactor = hfactor\n",
    "        self.particles = []\n",
    "        self.diversity = np.zeros((n_particles))\n",
    "        self.noise = 0\n",
    "        self.gbest_value = float('inf')\n",
    "        self.operator = Operators(graph)\n",
    "        self.gbest_route = np.random.permutation(np.asarray(range(1, citycount+1), dtype= np.int)); \n",
    "        \n",
    "        \n",
    "        \n",
    "    def print_particles(self):\n",
    "        for particle in self.particles: \n",
    "            print(particle)\n",
    "    \n",
    "    \n",
    "    def set_pbest(self):\n",
    "        for particle in self.particles:\n",
    "            fit= Fitness(particle, self.graph)\n",
    "            fitness_candidate = fit.routeCost()\n",
    "            if (particle.pbest_value > fitness_candidate ) :\n",
    "                particle.pbest_value = fitness_candidate\n",
    "                particle.pbest_route = particle.route\n",
    "                #particle.pbest_value = fitness_candidate\n",
    "    \n",
    "    def set_gbest(self): \n",
    "        for particle in self.particles: \n",
    "            fit= Fitness(particle, self.graph)\n",
    "            best_fitness_candidate = fit.routeCost()\n",
    "            if(self.gbest_value > best_fitness_candidate):\n",
    "                self.gbest_value = best_fitness_candidate\n",
    "                self.gbest_route = particle.route\n",
    "                print(f\"gbest_route = {self.gbest_route}, gbest_value = {self.gbest_value}\")\n",
    "    \n",
    "    def compute_diversity(self):\n",
    "        i=0; \n",
    "        for particle in self.particles:\n",
    "            self.diversity[i] = (sum((particle.route == particle.pbest_route))\\\n",
    "                            + sum((particle.route == self.gbest_route))\\\n",
    "                            + sum((particle.pbest_route == self.gbest_route)))/3 ;\n",
    "            \n",
    "    \n",
    "    def update_particles(self, c1, r1, c2, r2): \n",
    "        for i in range(len(self.particles)):\n",
    "            self.particles[i].route = self.operator.crossOver(self.particles[i].route, self.particles[i].pbest_route, c1, r1)\n",
    "            self.particles[i].route = self.operator.crossOver(self.particles[i].route, self.gbest_route, c2, r2)\n",
    "    \n",
    "    def inject_or_reverse(self):\n",
    "        for i in range(len(self.particles)):\n",
    "            if bool(rd.getrandbits(1)):\n",
    "                self.particles[i].route = self.operator.inject(self.particles[i].route, self.hfactor)\n",
    "            else: \n",
    "                r1= rd.randint(1, self.citycount)\n",
    "                r2= rd.randint(1, self.citycount)\n",
    "                \n",
    "                while(r1==r2):\n",
    "                    r1= rd.randint(1, self.citycount)\n",
    "                    r2= rd.randint(1, self.citycount)\n",
    "                s= r1 if r1<r2 else r2\n",
    "                e= r1 if r1>r2 else r2\n",
    "                \n",
    "                self.particles[i].route = self.operator.reverse(self.particles[i].route, s, e)\n",
    "                    \n",
    "            \n",
    "        \n",
    "        \n",
    "    def noise_factor(self):\n",
    "        self.noise =  1/self.n_particles * (np.sum(self.diversity))\n",
    "        return self.noise\n",
    "                \n",
    "    def disturb(self):\n",
    "        \"\"\"\n",
    "        My understanding of disturb is kind of swap function between any two random positions.\n",
    "        \"\"\"\n",
    "        self.compute_diversity()\n",
    "        noise = self.noise_factor()\n",
    "        print(f\"noise = {noise}\")\n",
    "        ita = 1 if noise < self.tdiversity else 0\n",
    "        \n",
    "        if ita == 1: \n",
    "            for i in range(len(self.particles)):\n",
    "                r1= rd.randint(0, self.citycount-1); \n",
    "                r2= rd.randint(0, self.citycount-1); \n",
    "                while(r1 == r2):\n",
    "                    r1= rd.randint(0, self.citycount-1); \n",
    "                    r2= rd.randint(0, self.citycount-1);\n",
    "                    \n",
    "                t= self.particles[i].route[r1];\n",
    "                self.particles[i].route[r1] = self.particles[i].route[r2]; \n",
    "                self.particles[i].route[r2] = t; \n",
    "                \n",
    "                    \n",
    "        \n",
    "        "
   ]
  },
  {
   "cell_type": "code",
   "execution_count": 133,
   "metadata": {
    "collapsed": true
   },
   "outputs": [],
   "source": [
    "import re\n",
    "def createCostMatrix( mat, rank :int):\n",
    "    arr= mat.split(); \n",
    "    arr= np.asarray((arr), dtype= np.int)\n",
    "    #print(len(arr))\n",
    "    #print(arr)\n",
    "    arr= np.reshape(arr, (rank, rank))\n",
    "    arr= np.c_[np.zeros((rank), dtype = np.int), arr]\n",
    "    arr= np.r_[np.zeros((1, rank+1), dtype= np.int), arr]\n",
    "    return arr"
   ]
  },
  {
   "cell_type": "code",
   "execution_count": 136,
   "metadata": {},
   "outputs": [
    {
     "name": "stdout",
     "output_type": "stream",
     "text": [
      "(27, 27)\n"
     ]
    }
   ],
   "source": [
    "arr= createCostMatrix(a, 26)\n",
    "print(arr.shape)"
   ]
  },
  {
   "cell_type": "code",
   "execution_count": 131,
   "metadata": {},
   "outputs": [],
   "source": [
    "#this is the fri_26_d.txt, the intercity distance table, optimized val= 937\n",
    "\n",
    "a= \"\"\"\n",
    "   0  83  93 129 133 139 151 169 135 114 110  98  99  95  81 152 159 181 172 185 147 157 185 220 127 181\n",
    "  83   0  40  53  62  64  91 116  93  84  95  98  89  68  67 127 156 175 152 165 160 180 223 268 179 197\n",
    "  93  40   0  42  42  49  59  81  54  44  58  64  54  31  36  86 117 135 112 125 124 147 193 241 157 161\n",
    " 129  53  42   0  11  11  46  72  65  70  88 100  89  66  76 102 142 156 127 139 155 180 228 278 197 190\n",
    " 133  62  42  11   0   9  35  61  55  62  82  95  84  62  74  93 133 146 117 128 148 173 222 272 194 182\n",
    " 139  64  49  11   9   0  39  65  63  71  90 103  92  71  82 100 141 153 124 135 156 181 230 280 202 190\n",
    " 151  91  59  46  35  39   0  26  34  52  71  88  77  63  78  66 110 119  88  98 130 156 206 257 188 160\n",
    " 169 116  81  72  61  65  26   0  37  59  75  92  83  76  91  54  98 103  70  78 122 148 198 250 188 148\n",
    " 135  93  54  65  55  63  34  37   0  22  39  56  47  40  55  37  78  91  62  74  96 122 172 223 155 128\n",
    " 114  84  44  70  62  71  52  59  22   0  20  36  26  20  34  43  74  91  68  82  86 111 160 210 136 121\n",
    " 110  95  58  88  82  90  71  75  39  20   0  18  11  27  32  42  61  80  64  77  68  92 140 190 116 103\n",
    "  98  98  64 100  95 103  88  92  56  36  18   0  11  34  31  56  63  85  75  87  62  83 129 178 100  99\n",
    "  99  89  54  89  84  92  77  83  47  26  11  11   0  23  24  53  68  89  74  87  71  93 140 189 111 107\n",
    "  95  68  31  66  62  71  63  76  40  20  27  34  23   0  15  62  87 106  87 100  93 116 163 212 132 130\n",
    "  81  67  36  76  74  82  78  91  55  34  32  31  24  15   0  73  92 112  96 109  93 113 158 205 122 130\n",
    " 152 127  86 102  93 100  66  54  37  43  42  56  53  62  73   0  44  54  26  39  68  94 144 196 139  95\n",
    " 159 156 117 142 133 141 110  98  78  74  61  63  68  87  92  44   0  22  34  38  30  53 102 154 109  51\n",
    " 181 175 135 156 146 153 119 103  91  91  80  85  89 106 112  54  22   0  33  29  46  64 107 157 125  51\n",
    " 172 152 112 127 117 124  88  70  62  68  64  75  74  87  96  26  34  33   0  13  63  87 135 186 141  81\n",
    " 185 165 125 139 128 135  98  78  74  82  77  87  87 100 109  39  38  29  13   0  68  90 136 186 148  79\n",
    " 147 160 124 155 148 156 130 122  96  86  68  62  71  93  93  68  30  46  63  68   0  26  77 128  80  37\n",
    " 157 180 147 180 173 181 156 148 122 111  92  83  93 116 113  94  53  64  87  90  26   0  50 102  65  27\n",
    " 185 223 193 228 222 230 206 198 172 160 140 129 140 163 158 144 102 107 135 136  77  50   0  51  64  58\n",
    " 220 268 241 278 272 280 257 250 223 210 190 178 189 212 205 196 154 157 186 186 128 102  51   0  93 107\n",
    " 127 179 157 197 194 202 188 188 155 136 116 100 111 132 122 139 109 125 141 148  80  65  64  93   0  90\n",
    " 181 197 161 190 182 190 160 148 128 121 103  99 107 130 130  95  51  51  81  79  37  27  58 107  90   0\n",
    " \n",
    "\"\"\""
   ]
  },
  {
   "cell_type": "markdown",
   "metadata": {},
   "source": [
    "# PSO begins.."
   ]
  },
  {
   "cell_type": "code",
   "execution_count": 137,
   "metadata": {},
   "outputs": [
    {
     "name": "stdout",
     "output_type": "stream",
     "text": [
      "Enter iteration count: 30\n"
     ]
    },
    {
     "ename": "TypeError",
     "evalue": "'list' object is not callable",
     "output_type": "error",
     "traceback": [
      "\u001b[1;31m---------------------------------------------------------------------------\u001b[0m",
      "\u001b[1;31mTypeError\u001b[0m                                 Traceback (most recent call last)",
      "\u001b[1;32m<ipython-input-137-b07b1acc16e5>\u001b[0m in \u001b[0;36m<module>\u001b[1;34m()\u001b[0m\n\u001b[0;32m      1\u001b[0m \u001b[1;31m#cityCount= int(input('Enter total number of cities. : '))\u001b[0m\u001b[1;33m\u001b[0m\u001b[1;33m\u001b[0m\u001b[0m\n\u001b[1;32m----> 2\u001b[1;33m \u001b[0mn_iterations\u001b[0m \u001b[1;33m=\u001b[0m \u001b[0mint\u001b[0m\u001b[1;33m(\u001b[0m\u001b[0minput\u001b[0m\u001b[1;33m(\u001b[0m\u001b[1;34m'Enter iteration count: '\u001b[0m\u001b[1;33m)\u001b[0m\u001b[1;33m)\u001b[0m\u001b[1;33m\u001b[0m\u001b[0m\n\u001b[0m\u001b[0;32m      3\u001b[0m \u001b[1;31m#n_iterations = 200;\u001b[0m\u001b[1;33m\u001b[0m\u001b[1;33m\u001b[0m\u001b[0m\n\u001b[0;32m      4\u001b[0m \u001b[0mcityCount\u001b[0m \u001b[1;33m=\u001b[0m \u001b[1;36m11\u001b[0m\u001b[1;33m\u001b[0m\u001b[0m\n\u001b[0;32m      5\u001b[0m \u001b[0mtarget\u001b[0m \u001b[1;33m=\u001b[0m \u001b[1;36m253\u001b[0m\u001b[1;33m\u001b[0m\u001b[0m\n",
      "\u001b[1;31mTypeError\u001b[0m: 'list' object is not callable"
     ]
    }
   ],
   "source": [
    "#cityCount= int(input('Enter total number of cities. : '))\n",
    "n_iterations = int(input('Enter iteration count: '))\n",
    "#n_iterations = 200; \n",
    "cityCount = 26\n",
    "target = 937\n",
    "#g= Graph(cityCount)\n",
    "#g= g.auto_create()\n",
    "'''\n",
    "g= np.array([[0, 0, 0, 0, 0, 0, 0, 0, 0, 0, 0],\\\n",
    "                [0, 0, 29, 20, 21, 16, 31, 100, 12, 4, 31, 18],\\\n",
    "                [0, 29, 0, 15, 29, 28, 40, 72, 21, 29, 41, 12],\\\n",
    "                [0, 20, 15, 0, 15, 14, 25, 81, 9, 23, 27, 13],\\\n",
    "                [0, 21, 29, 15, 0, 4, 12, 92, 12, 25, 13, 25],\\\n",
    "                [0, 16, 28, 14, 4, 0, 16, 94, 9, 20, 16, 22],\\\n",
    "                [0, 31, 40, 25, 12, 16, 0, 95, 24, 36, 3, 37],\\\n",
    "                [0, 100, 72, 81, 92, 94, 95, 0, 90, 101, 99, 84],\\\n",
    "                [0, 12, 21, 9, 12, 9, 24, 90, 0, 15, 25, 13],\\\n",
    "                [0, 4, 29, 23, 25, 20, 36, 101, 15, 0, 35, 18],\\\n",
    "                [0, 31, 41, 27, 13, 16, 3, 99, 25, 35, 0 ,38],\\\n",
    "                [0, 18, 12, 13, 25, 22, 37, 84, 13, 18, 38, 0]])\n",
    "\n",
    "'''\n",
    "g= createCostMatrix(a, 26)\n",
    "\n",
    "print(\"Distance Matrix\")\n",
    "print(g)\n",
    "hfactor = 0.5\n",
    "search_space = Space(100, cityCount, g, hfactor)\n",
    "particles_vector = [Particle(cityCount) for _ in range(search_space.n_particles)]\n",
    "search_space.particles = particles_vector\n",
    "\n",
    "search_space.print_particles()\n",
    "search_space.set_pbest()\n",
    "search_space.set_gbest()\n",
    "\n",
    "iteration = 0\n",
    "\n",
    "while(iteration < n_iterations):\n",
    "    print(f\"iteration: {iteration} <<========================================================>>\")\n",
    "    c1 = 2; \n",
    "    c2 = 2; \n",
    "    r1 = 2; \n",
    "    r2 = 2; \n",
    "    search_space.update_particles(c1, r1, c2, r2)\n",
    "    search_space.set_pbest()\n",
    "    search_space.set_gbest()\n",
    "    search_space.inject_or_reverse()\n",
    "    search_space.disturb()\n",
    "    search_space.print_particles()\n",
    "    if search_space.gbest_value == target:\n",
    "        break\n",
    "    iteration+=1\n",
    "    \n",
    "    \n",
    "print(f\"best route= {search_space.gbest_route} and best value = {search_space.gbest_value}\\\n",
    "        iteration= {iteration}\")\n",
    "    \n"
   ]
  },
  {
   "cell_type": "code",
   "execution_count": null,
   "metadata": {
    "collapsed": true
   },
   "outputs": [],
   "source": []
  }
 ],
 "metadata": {
  "kernelspec": {
   "display_name": "Python 3",
   "language": "python",
   "name": "python3"
  },
  "language_info": {
   "codemirror_mode": {
    "name": "ipython",
    "version": 3
   },
   "file_extension": ".py",
   "mimetype": "text/x-python",
   "name": "python",
   "nbconvert_exporter": "python",
   "pygments_lexer": "ipython3",
   "version": "3.6.2"
  }
 },
 "nbformat": 4,
 "nbformat_minor": 2
}
